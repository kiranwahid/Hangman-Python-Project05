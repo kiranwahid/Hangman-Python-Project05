{
  "nbformat": 4,
  "nbformat_minor": 0,
  "metadata": {
    "colab": {
      "provenance": [],
      "authorship_tag": "ABX9TyPCu+LtqQQXQukL4bUFHC+z",
      "include_colab_link": true
    },
    "kernelspec": {
      "name": "python3",
      "display_name": "Python 3"
    },
    "language_info": {
      "name": "python"
    }
  },
  "cells": [
    {
      "cell_type": "markdown",
      "metadata": {
        "id": "view-in-github",
        "colab_type": "text"
      },
      "source": [
        "<a href=\"https://colab.research.google.com/github/kiranwahid/Hangman-Python-Project05/blob/main/hungman_game.ipynb\" target=\"_parent\"><img src=\"https://colab.research.google.com/assets/colab-badge.svg\" alt=\"Open In Colab\"/></a>"
      ]
    },
    {
      "cell_type": "code",
      "execution_count": null,
      "metadata": {
        "id": "jOeLRuQa3jJz"
      },
      "outputs": [],
      "source": [
        "import random\n",
        "\n",
        "# 🍎🍇 Create a basket of different fruits\n",
        "fruit_basket = [\"apple\", 'mango', 'banana', 'orange', 'cherry', 'grapes', 'pineapple', 'strawberry', 'kiwi', 'pear']\n",
        "\n",
        "# 🎯 Randomly select one fruit from the basket\n",
        "random_fruit = random.choice(fruit_basket)\n",
        "\n",
        "# 🧩 Create blanks (underscores) for each letter in the random fruit, representing the word to guess\n",
        "blanks = '_' * len(random_fruit)\n",
        "\n",
        "# ❤️ Set the number of lives (chances) the player has to guess the fruit\n",
        "lives = 10\n",
        "\n",
        "# 🎮 Start the guessing loop - Keep going until the player runs out of lives or guesses the word\n",
        "while lives > 0 and \"_\" in blanks:\n",
        "    # ✏️ Display the current status of the guessed word with blanks\n",
        "    print(\"Guess a letter: \" + \" \".join(blanks))\n",
        "\n",
        "    # 🧐 Prompt the player to enter a letter and make sure it's lowercase\n",
        "    guess = input(\"Enter a letter: \").lower()\n",
        "\n",
        "    # ✅ If the guessed letter is in the fruit, reveal the letter in the correct position(s)\n",
        "    if guess in random_fruit:\n",
        "        for i in range(len(random_fruit)):\n",
        "            if random_fruit[i] == guess:\n",
        "                # 💡 Replace the blank with the correct letter\n",
        "                blanks = blanks[:i] + guess + blanks[i+1:]\n",
        "\n",
        "    # ❌ If the guessed letter is not in the fruit, reduce the number of lives\n",
        "    else:\n",
        "        lives -= 1\n",
        "        print(f\"Oops! {guess} is not in the word. Lives left: {lives} 💔\")\n",
        "\n",
        "    # 🏆 Check if all blanks have been filled, meaning the player has won\n",
        "    if \"_\" not in blanks:\n",
        "        print(f\"You win! 🎉 The fruit was: {random_fruit} 🍓\")\n",
        "    # 😢 If no lives are left, the player loses the game\n",
        "    elif lives == 0:\n",
        "        print(f\"You lose! 😔 The fruit was: {random_fruit} 🍌\")\n",
        "\n",
        "\n",
        "\n"
      ]
    }
  ]
}